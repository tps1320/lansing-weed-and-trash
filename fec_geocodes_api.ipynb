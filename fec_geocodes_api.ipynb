{
 "cells": [
  {
   "cell_type": "code",
   "execution_count": null,
   "metadata": {},
   "outputs": [],
   "source": [
    "import pandas as pd\n",
    "import requests\n",
    "import numpy as np\n",
    "import json\n",
    "from io import StringIO\n",
    "import time\n",
    "\n",
    "BASE_DIR='/home/thanuja/Dropbox/Lansing/'"
   ]
  },
  {
   "cell_type": "code",
   "execution_count": null,
   "metadata": {
    "scrolled": false
   },
   "outputs": [],
   "source": [
    "def call_census_api(lines):\n",
    "    data = {\n",
    "        'returntype':'geographies',\n",
    "        'benchmark': 'Public_AR_Current',\n",
    "        'vintage': 'Current_Current'\n",
    "    }\n",
    "\n",
    "\n",
    "    files = {\n",
    "        'addressFile': ('addresses.csv', lines)\n",
    "    }\n",
    "    #url = 'https://geocoding.geo.census.gov/geocoder/locations/addressbatch' (only lat and lon but no census tract)\n",
    "    url = 'https://geocoding.geo.census.gov/geocoder/geographies/addressbatch'\n",
    "    response = requests.post(url, data = data, files = files)\n",
    "    return response.text"
   ]
  },
  {
   "cell_type": "code",
   "execution_count": null,
   "metadata": {
    "scrolled": true
   },
   "outputs": [],
   "source": [
    "fec_file_path = BASE_DIR + \"fec_cleaned.csv\"\n",
    "fec_df = pd.read_csv(fec_file_path)\n",
    "fec_df['Mailing Street'] = fec_df['Mailing Street'].str.replace('\\n', ' ').replace('_x000D_', ' ')"
   ]
  },
  {
   "cell_type": "code",
   "execution_count": null,
   "metadata": {},
   "outputs": [],
   "source": [
    "BATCH_SIZE = 50\n",
    "line_count = 0\n",
    "batch = ''\n",
    "output_file = open(BASE_DIR + \"fec_geocodes.csv\", 'wt')  # append mode\n",
    "raw_input_file = open(BASE_DIR + 'fec_geocodes_input.csv', 'wt')\n",
    "\n",
    "selected_cols = fec_df[['FEC ID', 'Mailing Street', 'Mailing City', 'Mailing State/Province', 'Mailing Zip/Postal Code']]\n",
    "for index, row in selected_cols.dropna().iterrows():\n",
    "    if pd.isna(row['FEC ID']) or row['FEC ID'] == 'nan':\n",
    "        continue\n",
    "    line_count += 1\n",
    "    batch += f\"{row['FEC ID']},{row['Mailing Street']},{row['Mailing City']}\"\n",
    "    batch += f\",{row['Mailing State/Province']},\" #,{row['Mailing Zip/Postal Code']}\"\n",
    "    if line_count >= BATCH_SIZE:\n",
    "        #print('[' + batch  + ']')\n",
    "        print(line_count)\n",
    "        print(batch, file=raw_input_file)\n",
    "        line_count = 0\n",
    "        success = False\n",
    "        while not success:\n",
    "            try:\n",
    "                response = call_census_api(batch)\n",
    "                #print('*', response, '*')\n",
    "                success = True\n",
    "                print('SUCCESS')\n",
    "            except err:\n",
    "                print(err)\n",
    "                time.sleep(7)\n",
    "            output_file.write(response)\n",
    "        batch = ''\n",
    "    else:\n",
    "        batch += '\\n'\n",
    "raw_input_file.close()\n",
    "output_file.close()\n",
    "#print(fec_str.to_string(header=False))"
   ]
  },
  {
   "cell_type": "code",
   "execution_count": null,
   "metadata": {},
   "outputs": [],
   "source": [
    "fec_geocodes_path = BASE_DIR + \"fec_geocodes.bak.csv\"\n",
    "fec_geo_df = pd.read_csv(fec_geocodes_path)\n",
    "fec_geo_df = fec_geo_df[fec_geo_df['Match Indicator'] == 'Match']\n",
    "# 3519\n",
    "fec_geo_df.groupby()"
   ]
  },
  {
   "cell_type": "code",
   "execution_count": null,
   "metadata": {},
   "outputs": [],
   "source": []
  }
 ],
 "metadata": {
  "kernelspec": {
   "display_name": "Python 3 (ipykernel)",
   "language": "python",
   "name": "python3"
  },
  "language_info": {
   "codemirror_mode": {
    "name": "ipython",
    "version": 3
   },
   "file_extension": ".py",
   "mimetype": "text/x-python",
   "name": "python",
   "nbconvert_exporter": "python",
   "pygments_lexer": "ipython3",
   "version": "3.8.10"
  }
 },
 "nbformat": 4,
 "nbformat_minor": 4
}
