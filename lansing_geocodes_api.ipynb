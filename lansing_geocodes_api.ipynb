{
 "cells": [
  {
   "cell_type": "code",
   "execution_count": 1,
   "metadata": {},
   "outputs": [],
   "source": [
    "import pandas as pd\n",
    "import requests\n",
    "import numpy as np\n",
    "import json\n",
    "from io import StringIO\n",
    "import time\n",
    "\n",
    "BASE_DIR='/home/thanuja/Dropbox/Lansing/'"
   ]
  },
  {
   "cell_type": "code",
   "execution_count": 8,
   "metadata": {
    "scrolled": false
   },
   "outputs": [],
   "source": [
    "def call_census_api(lines):\n",
    "    data = {\n",
    "        'returntype':'geographies',\n",
    "        'benchmark': 'Public_AR_Current',\n",
    "        'vintage': 'Current_Current'\n",
    "    }\n",
    "\n",
    "\n",
    "    files = {\n",
    "        'addressFile': ('addresses.csv', lines)\n",
    "    }\n",
    "    #url = 'https://geocoding.geo.census.gov/geocoder/locations/addressbatch'\n",
    "    url = 'https://geocoding.geo.census.gov/geocoder/geographies/addressbatch'\n",
    "    response = requests.post(url, data = data, files = files)\n",
    "    return response.text"
   ]
  },
  {
   "cell_type": "code",
   "execution_count": 9,
   "metadata": {},
   "outputs": [],
   "source": [
    "lansing_file_path = \"/home/Lansing.csv\"\n",
    "lansing_final_df = pd.DataFrame()\n",
    "output_file = open(BASE_DIR + \"lansing_geocodes.csv\", \"a\")  # append mode\n",
    "\n",
    "with open(lansing_file_path) as input_file:\n",
    "    while True:\n",
    "        lines = input_file.readlines(500)\n",
    "        if not lines:\n",
    "            break\n",
    "        success = False\n",
    "        while not success:\n",
    "            try:\n",
    "                response = call_census_api(''.join(lines))\n",
    "                success = True\n",
    "            except err:\n",
    "                print(err)\n",
    "                time.sleep(7)\n",
    "        #print(response)\n",
    "        output_file.write(response)\n",
    "output_file.close()"
   ]
  },
  {
   "cell_type": "code",
   "execution_count": null,
   "metadata": {},
   "outputs": [],
   "source": []
  }
 ],
 "metadata": {
  "kernelspec": {
   "display_name": "Python 3",
   "language": "python",
   "name": "python3"
  },
  "language_info": {
   "codemirror_mode": {
    "name": "ipython",
    "version": 3
   },
   "file_extension": ".py",
   "mimetype": "text/x-python",
   "name": "python",
   "nbconvert_exporter": "python",
   "pygments_lexer": "ipython3",
   "version": "3.8.10"
  }
 },
 "nbformat": 4,
 "nbformat_minor": 4
}
